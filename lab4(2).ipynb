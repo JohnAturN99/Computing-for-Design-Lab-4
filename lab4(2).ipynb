{
 "cells": [
  {
   "cell_type": "markdown",
   "metadata": {},
   "source": [
    "# Lab 4: Parameter spaces and optimization"
   ]
  },
  {
   "cell_type": "markdown",
   "metadata": {},
   "source": [
    "__INTRODUCTION__: In this lab, we will look at airfoil shape optimisation using the simulator introduced in Lab 3 and the geometry tools that we have developed in Labs 1 and 2. We will use parametric airfoil geometries and then investigate how the airfoil performance depends on the geometry parameters. We will also use optimisation tools to find optimal geometries more rigorously than by trial and error.\n",
    "\n",
    "Make sure you have watched the videos for Lecture 4 and the associated python demo video.\n",
    "\n",
    "Similar to previous labs, there is a number of tasks for you to work on. The tasks are accompanied by a textual description to guide you. Often some code has been prepared for you in advance and you typically have to execute code cells (using `Shift+Enter` on your keyboard). \n",
    "\n",
    "In some cells, some code has been omitted and this is clearly highlighted by special sections like\n",
    "\n",
    "```\n",
    "   # YOUR CODE HERE\n",
    "   \n",
    "   # END YOUR CODE HERE  \n",
    "```\n",
    "\n",
    "Feel free to post a message on the discussion forum should you have any questions!"
   ]
  },
  {
   "cell_type": "markdown",
   "metadata": {},
   "source": [
    "We first import the basic python modules for array operations and plotting, as usual."
   ]
  },
  {
   "cell_type": "code",
   "execution_count": 1,
   "metadata": {},
   "outputs": [],
   "source": [
    "import numpy as np\n",
    "import matplotlib.pyplot as pl\n",
    "\n",
    "# you can replace inline with qt to get plots in a separate window\n",
    "%matplotlib inline"
   ]
  },
  {
   "cell_type": "markdown",
   "metadata": {},
   "source": [
    "---"
   ]
  },
  {
   "cell_type": "markdown",
   "metadata": {},
   "source": [
    "## Task 1 - Create a function that returns the drag coefficient for a given airfoil geometry"
   ]
  },
  {
   "cell_type": "markdown",
   "metadata": {},
   "source": [
    "We will need some of the tools developed in the previous labs. As usual you should download the files `lab_1_tools.py`, `lab_2_tools.py` and `airfoilsim.py` from the BlackBoard folder for Lab 4 and put them in the same directory as this notebook you are using. __Note you'll have to be connected to the VPN!__"
   ]
  },
  {
   "cell_type": "code",
   "execution_count": 2,
   "metadata": {},
   "outputs": [],
   "source": [
    "# for the geometry\n",
    "from lab_2_tools import parametric_aerofoil, plot_airfoil, bezier_spline_airfoil\n",
    "\n",
    "# for the simulation\n",
    "from airfoilsim import airfoilsim"
   ]
  },
  {
   "cell_type": "markdown",
   "metadata": {},
   "source": [
    "OK, for the first task will use the function `parametric_aerofoil` developed in Lab 2. Let's recall how it works by looking at its documentation:"
   ]
  },
  {
   "cell_type": "code",
   "execution_count": 3,
   "metadata": {},
   "outputs": [],
   "source": [
    "?parametric_aerofoil"
   ]
  },
  {
   "cell_type": "markdown",
   "metadata": {},
   "source": [
    "With this function we can obtain a one-parameter family of airfoil, parametrized by one variable, the weight $w_{\\mathbf{q}_2}$ of point $\\mathbf{q}_2$. Since the drag depends on the geometry, we expect that the sectional coefficient $C_d$ will depend on $w_{\\mathbf{q}_2}$. Before we do anything else let's define some inflow conditions"
   ]
  },
  {
   "cell_type": "code",
   "execution_count": 4,
   "metadata": {},
   "outputs": [
    {
     "name": "stdout",
     "output_type": "stream",
     "text": [
      "494722.9551451187\n"
     ]
    }
   ],
   "source": [
    "# inflow parameters\n",
    "V  = 15        # m/s\n",
    "c  = 0.5       # m\n",
    "nu = 1.516e-5  # m^2/s at 20 degrees Celsius (see https://www.engineersedge.com/physics/viscosity_of_air_dynamic_and_kinematic_14483.htm)\n",
    "\n",
    "# Reynolds number\n",
    "Re = V*c/nu\n",
    "print(Re)\n",
    "# angle of attack in degree\n",
    "alpha = 2"
   ]
  },
  {
   "cell_type": "markdown",
   "metadata": {},
   "source": [
    "I have selected some representative conditions for a low-speed aerodynamic flow, using the same properties as in Lab 3. "
   ]
  },
  {
   "cell_type": "markdown",
   "metadata": {},
   "source": [
    "To see how the drag coefficient depends on the weight $w_{\\mathbf{q}_2}$ we can define a function, called simply `drag` that:\n",
    "\n",
    "- takes the weight as a single input (with argume we call `w` for simplicity)\n",
    "- creates the geometry\n",
    "- runs the simulation and discards the pressure distribution\n",
    "- returns the drag coefficient\n",
    "\n",
    "I have made a start in the cell below and added some documentation and comments to help you constructing the function. As discussed in the demo lecture number 4 (see Blackboard), optimisation routines in the scipy library expect that the objective function takes one single array argument, i.e. the parameter vector. In this case, we have a single parameter, which we wrap in a one-element array. Inside the function, we need to make sure that we extract the only component of this array. "
   ]
  },
  {
   "cell_type": "code",
   "execution_count": 5,
   "metadata": {},
   "outputs": [],
   "source": [
    "def drag(w):\n",
    "    \"\"\"\n",
    "    Return the drag coefficient for the 1D parametric airfoil defined in Lab 2 with\n",
    "    weight for control point $q_2$ given by `w[0]`. Note that the input `w` should be \n",
    "    a one element list or a one element array, not a single scalar.\n",
    "    \"\"\"\n",
    "    # YOUR CODE HERE\n",
    "    # obtain geometry using `parametric_aerofoil` (one line of code)\n",
    "    B, p, q = parametric_aerofoil(w[0])\n",
    "    #print(\"This is B\",B)\n",
    "    #print(\"This is p\",p)\n",
    "    #print(\"This is q\", q)\n",
    "\n",
    "    \n",
    "    # run flow calculations at alpha and Re defined in one of the previous cells (one line of code)\n",
    "    cl, cd, x_lower, x_upper, cp_lower, cp_upper = airfoilsim(B, alpha, Re)\n",
    "    \n",
    "    # END YOUR CODE here\n",
    "    return cd"
   ]
  },
  {
   "cell_type": "markdown",
   "metadata": {},
   "source": [
    "### Testing"
   ]
  },
  {
   "cell_type": "markdown",
   "metadata": {},
   "source": [
    "If your function has been implemented properly (and if you have not changed inflow conditions), the cell below should execute successfully."
   ]
  },
  {
   "cell_type": "code",
   "execution_count": 6,
   "metadata": {},
   "outputs": [],
   "source": [
    "# run this cell\n",
    "assert drag([1]) == 0.0063173822"
   ]
  },
  {
   "cell_type": "markdown",
   "metadata": {},
   "source": [
    "Note that we have to pass `[1]` as an argument and not `1`, to run calculations with $w_{\\mathbf{q}_2} = 1$, because we have to pass an array or list of parameters. Try executing `drag(1)` in the cell below and make sure you understand the nature of the resulting error."
   ]
  },
  {
   "cell_type": "code",
   "execution_count": 7,
   "metadata": {},
   "outputs": [
    {
     "ename": "TypeError",
     "evalue": "'int' object is not subscriptable",
     "output_type": "error",
     "traceback": [
      "\u001b[1;31m---------------------------------------------------------------------------\u001b[0m",
      "\u001b[1;31mTypeError\u001b[0m                                 Traceback (most recent call last)",
      "\u001b[1;32m<ipython-input-7-90622c1c2f0a>\u001b[0m in \u001b[0;36m<module>\u001b[1;34m\u001b[0m\n\u001b[1;32m----> 1\u001b[1;33m \u001b[0mdrag\u001b[0m\u001b[1;33m(\u001b[0m\u001b[1;36m1\u001b[0m\u001b[1;33m)\u001b[0m \u001b[1;31m# this produces an error\u001b[0m\u001b[1;33m\u001b[0m\u001b[1;33m\u001b[0m\u001b[0m\n\u001b[0m",
      "\u001b[1;32m<ipython-input-5-db5e0d106e9a>\u001b[0m in \u001b[0;36mdrag\u001b[1;34m(w)\u001b[0m\n\u001b[0;32m      7\u001b[0m     \u001b[1;31m# YOUR CODE HERE\u001b[0m\u001b[1;33m\u001b[0m\u001b[1;33m\u001b[0m\u001b[1;33m\u001b[0m\u001b[0m\n\u001b[0;32m      8\u001b[0m     \u001b[1;31m# obtain geometry using `parametric_aerofoil` (one line of code)\u001b[0m\u001b[1;33m\u001b[0m\u001b[1;33m\u001b[0m\u001b[1;33m\u001b[0m\u001b[0m\n\u001b[1;32m----> 9\u001b[1;33m     \u001b[0mB\u001b[0m\u001b[1;33m,\u001b[0m \u001b[0mp\u001b[0m\u001b[1;33m,\u001b[0m \u001b[0mq\u001b[0m \u001b[1;33m=\u001b[0m \u001b[0mparametric_aerofoil\u001b[0m\u001b[1;33m(\u001b[0m\u001b[0mw\u001b[0m\u001b[1;33m[\u001b[0m\u001b[1;36m0\u001b[0m\u001b[1;33m]\u001b[0m\u001b[1;33m)\u001b[0m\u001b[1;33m\u001b[0m\u001b[1;33m\u001b[0m\u001b[0m\n\u001b[0m\u001b[0;32m     10\u001b[0m     \u001b[1;31m#print(\"This is B\",B)\u001b[0m\u001b[1;33m\u001b[0m\u001b[1;33m\u001b[0m\u001b[1;33m\u001b[0m\u001b[0m\n\u001b[0;32m     11\u001b[0m     \u001b[1;31m#print(\"This is p\",p)\u001b[0m\u001b[1;33m\u001b[0m\u001b[1;33m\u001b[0m\u001b[1;33m\u001b[0m\u001b[0m\n",
      "\u001b[1;31mTypeError\u001b[0m: 'int' object is not subscriptable"
     ]
    }
   ],
   "source": [
    "drag(1) # this produces an error"
   ]
  },
  {
   "cell_type": "markdown",
   "metadata": {},
   "source": [
    "---"
   ]
  },
  {
   "cell_type": "markdown",
   "metadata": {},
   "source": [
    "## Task 2 - Drag coefficient optimisation"
   ]
  },
  {
   "cell_type": "markdown",
   "metadata": {},
   "source": [
    "Now that we have the drag function, we can try to find the value of the parameter $w_{\\mathbf{q}_2}$ that minimises the drag. If the airfoil drag is lower, we burn less fuel and everyone (except those sitting on oil) likes that! \n",
    "\n",
    "Mathematically, we want to solve\n",
    "\n",
    "\\begin{equation}\n",
    "    \\begin{aligned}\n",
    "        &\\underset{  w_{\\mathbf{q}_2} }{\\text{min}}&& C_d{(w_{\\mathbf{q}_2})}\n",
    "    \\end{aligned}\n",
    "\\end{equation}\n",
    "\n",
    "where $C_d{(w_{\\mathbf{q}_2})}$ indicates that the drag coefficient is a function of the weight $w_{\\mathbf{q}_2}$ and we want to find the value of this weight that produces the minimum drag. Note that this is an unconstrained optimisation problem over one variable.\n",
    "\n",
    "We will explore in detail the parameter space of this problem later on, but we'll first used an optimiser."
   ]
  },
  {
   "cell_type": "markdown",
   "metadata": {},
   "source": [
    "\n",
    "### Optimisation"
   ]
  },
  {
   "cell_type": "markdown",
   "metadata": {},
   "source": [
    "We will use the `minimize` function from the subpackage `optimize` in the `scipy` library, let's import it first."
   ]
  },
  {
   "cell_type": "code",
   "execution_count": 12,
   "metadata": {},
   "outputs": [],
   "source": [
    "from scipy.optimize import minimize"
   ]
  },
  {
   "cell_type": "markdown",
   "metadata": {},
   "source": [
    "As shown in the demo lecture 4, we will use the method `Nelder-Mead`. This method is a bit more robust than gradient based methods and you can read more [here](https://en.wikipedia.org/wiki/Nelder–Mead_method) and [here](http://www.scholarpedia.org/article/Nelder-Mead_algorithm) about this method if you want. We also need to specify a stopping tolerance, by passing a value to the keyword argument `tol`. A tolerance of four decimal places should be sufficient. \n",
    "\n",
    "We also need to provide a reasonable initial guess. Let's try to run the optimiser by executing the cell below."
   ]
  },
  {
   "cell_type": "code",
   "execution_count": 13,
   "metadata": {},
   "outputs": [],
   "source": [
    "# define initial guess, as a one-element list. A value of one for this weight could be a reasonable guess.\n",
    "w_guess = [1.0]\n",
    "\n",
    "# run the optimizer (this might take a while), by passing the function we want to minimize and a initial guess\n",
    "out = minimize(drag, w_guess, tol=1e-4, method=\"Nelder-Mead\")"
   ]
  },
  {
   "cell_type": "markdown",
   "metadata": {},
   "source": [
    "I have stored the output of the `minimize` function in a dummy variable `out`. As we discussed in the demo lecture number 4, the optimal parameter vector (the minimizer) can be accessed with `out.x` (the `x` field of `out`), while the objective function at this optimal value is `out.fun`. Let's extract the minimiser first"
   ]
  },
  {
   "cell_type": "code",
   "execution_count": 14,
   "metadata": {},
   "outputs": [
    {
     "data": {
      "text/plain": [
       "array([1.0546875])"
      ]
     },
     "execution_count": 14,
     "metadata": {},
     "output_type": "execute_result"
    }
   ],
   "source": [
    "# execute this cell with Shift+Enter to print out.x\n",
    "out.x"
   ]
  },
  {
   "cell_type": "markdown",
   "metadata": {},
   "source": [
    "OK, the optimial parameter value is close to `1`, maybe a bit higher. The minimum drag coefficient is "
   ]
  },
  {
   "cell_type": "code",
   "execution_count": 15,
   "metadata": {},
   "outputs": [
    {
     "data": {
      "text/plain": [
       "0.00629907"
      ]
     },
     "execution_count": 15,
     "metadata": {},
     "output_type": "execute_result"
    }
   ],
   "source": [
    "# execute this cell with Shift+Enter\n",
    "out.fun"
   ]
  },
  {
   "cell_type": "markdown",
   "metadata": {},
   "source": [
    "Not bad, but, how do we know we did find the minimum?"
   ]
  },
  {
   "cell_type": "markdown",
   "metadata": {},
   "source": [
    "## Visualising how drag depends on the geometry"
   ]
  },
  {
   "cell_type": "markdown",
   "metadata": {},
   "source": [
    "Now, by simply running the optimiser we can't see what's going on in parameter space and understand the role of this design parameter on the airfoil performance.\n",
    "\n",
    "\n",
    "Hence, instead of running the optimiser we could simply explore the parameter space, by calculating the drag coefficient for several values of the weight $w_{\\mathbf{q}_2}$. This is of course less efficient than using an optimiser, especially when there are more parameters, because we need to finely grid the parameter space and run lots of simulations. The optimiser, instead, only samples the objective function at few points, those necessary to descend to a minimum.\n",
    "\n",
    "For this case, we can still attempt to map the parameter space, and this is the objective of the next task. You will have to write a function `parameter_sweep` that computes the drag coefficient of the parametric airfoil at for several values of the weight $w_{\\mathbf{q}_2}$. I have added some documentation and comments to the function to help you in this task."
   ]
  },
  {
   "cell_type": "code",
   "execution_count": 16,
   "metadata": {},
   "outputs": [],
   "source": [
    "def parameter_sweep(alpha, Re, Nw = 30):\n",
    "    \"\"\" \n",
    "    Compute the drag coefficient of the parametric airfoil at angle of attack `alpha` and \n",
    "    Reynolds number `Re`, for `Nw` values (default 30 points) of the parameter `w` equally \n",
    "    spaced between 0 and 2.\n",
    "    \n",
    "    Return the 1D array of parameters `w`, and a 1D array with the corresponding drag coefficients. \n",
    "    \"\"\"\n",
    "    # define a linearly spaced array of weights (hint use np.linspace)\n",
    "    ws  = np.linspace(0, 2, Nw)\n",
    "    #print(\"This is ws\", ws)\n",
    "    \n",
    "    # pre initialise the drag coefficient as an array of zeros of the correct size\n",
    "    cds = np.zeros(Nw)\n",
    "    #print(\"This is cds\", cds)\n",
    "    \n",
    "    # now loop over the parameters we need to evaluate the Cd at\n",
    "    for i in range(Nw):\n",
    "        # YOUR CODE HERE\n",
    "        # get geometry (one line)\n",
    "        B, p, q = parametric_aerofoil(ws[i])\n",
    "        #print(B)\n",
    "\n",
    "\n",
    "        # run simulation (one line)\n",
    "        cl, cd, xl, xu, cpl, cpu = airfoilsim(B, alpha, Re)\n",
    "        #print(cd)\n",
    "\n",
    "        \n",
    "        # store drag coefficient at position i in cds (one line)\n",
    "        cds[i] =cd\n",
    "        #print(cd)\n",
    "\n",
    "        # END YOUR CODE HERE\n",
    "        \n",
    "    # return the array of weights and the array of drag coefficients\n",
    "    return ws, cds"
   ]
  },
  {
   "cell_type": "markdown",
   "metadata": {},
   "source": [
    "### Testing"
   ]
  },
  {
   "cell_type": "markdown",
   "metadata": {},
   "source": [
    "OK, to make sure your implementation is correct, run the cell below. You do not need to modify the cell, just run it."
   ]
  },
  {
   "cell_type": "code",
   "execution_count": 17,
   "metadata": {},
   "outputs": [],
   "source": [
    "# run calculations\n",
    "ws, cds = parameter_sweep(alpha, Re, Nw=3)\n",
    "\n",
    "# check\n",
    "assert cds[2] == 0.0069979366"
   ]
  },
  {
   "cell_type": "markdown",
   "metadata": {},
   "source": [
    "### Plotting the result"
   ]
  },
  {
   "cell_type": "markdown",
   "metadata": {},
   "source": [
    "OK, if the code runs correctly, we can now plot the drag coefficient as a function of the weight $w_{\\mathbf{q}_2}$. We first call our `parameter_sweep` function with default values of `alpha` and `Re` as defined in one of the cells above and then we plot the result. Complete the plotting commands are indicated."
   ]
  },
  {
   "cell_type": "code",
   "execution_count": 18,
   "metadata": {},
   "outputs": [],
   "source": [
    "# run the function with default values of angle of attack and Reynolds number \n",
    "ws, cds = parameter_sweep(alpha, Re)"
   ]
  },
  {
   "cell_type": "code",
   "execution_count": 19,
   "metadata": {},
   "outputs": [
    {
     "data": {
      "text/plain": [
       "[<matplotlib.lines.Line2D at 0x1686e232a00>]"
      ]
     },
     "execution_count": 19,
     "metadata": {},
     "output_type": "execute_result"
    }
   ],
   "source": [
    "# make a new figure\n",
    "pl.figure(1, figsize=(6, 4))\n",
    "pl.clf()\n",
    "\n",
    "# BEGIN YOUR CODE HERE\n",
    "# plot Cd as a function of the weight (one line)\n",
    "pl.plot(ws, cds)\n",
    "\n",
    "# add grid and labels (three lines)\n",
    "pl.grid(1)\n",
    "pl.ylabel(\"$Cd$\")\n",
    "pl.xlabel(\"$ws$\")\n",
    "\n",
    "\n",
    "# plot a vertical red line at the position w giving the minimum drag (one line)\n",
    "pl.axvline(out.x[0], color=\"r\")\n",
    "\n",
    "# END YOUR CODE HERE\n",
    "\n",
    "# as well as a green circle at the minimum\n",
    "pl.plot(out.x[0], out.fun, \"go\")"
   ]
  },
  {
   "cell_type": "markdown",
   "metadata": {},
   "source": [
    "OK, so you see the drag depends quite heavily on the airfoil geometry via the parameter `w`, and the numerical optimiser has correctly found the optimal value that minimises `Cd`. Let's move on to the next task."
   ]
  },
  {
   "cell_type": "markdown",
   "metadata": {},
   "source": [
    "---"
   ]
  },
  {
   "cell_type": "markdown",
   "metadata": {},
   "source": [
    "## Task 3 - Find the airfoil with minimum drag producing a target lift coefficient $C_l^*=0.3$"
   ]
  },
  {
   "cell_type": "markdown",
   "metadata": {},
   "source": [
    "Minimising drag is useful, but only if constraints on lift are met! For an aircraft flying at a given velocity and altitude (so that the air density is known), and carrying a given payload (so the total weight is known), the lift coefficient is determined. The task of the aircraft designed is to then find a geometry that minimises fuel burn!\n",
    "\n",
    "To address this problem, we have to solve a constrained optimisation problem. We  will attempt to find the airfoil geometry (given by parameter $w_{\\mathbf{q}_2}$) __and__ the angle of attack that minimise the drag coefficient whilst satifying a constraint that the lift coefficient should be equal to a target value. Simply varying $w_{\\mathbf{q}_2}$ is not sufficient, because we do not have enough \"flexibility\" to vary `cl` and `cd` separately with only one design parameter. We could define a `parametric_airfoil_2D` function where we change the weights of two control points, but we would still have the angle of attack to take into account. \n",
    "\n",
    "Our design parameters are thus $w_{\\mathbf{q}_2}$ __and__ `alpha`, the angle of attack, while the objective function is the drag coefficient. We could parametrise the geometry further, for instance, by allowing all weights to vary, or changing the location of the control points. This is possible but it adds complexity. At this stage, we want to understand the basic concepts.\n",
    "\n",
    "Mathematically the optimisation problem we solve is\n",
    "\n",
    "\\begin{equation}\n",
    "    \\begin{aligned}\n",
    "        &\\underset{ w_{\\mathbf{q}_2}, \\alpha }{\\text{min}}&& C_d{(w_{\\mathbf{q}_2}, \\alpha)}\\\\\n",
    "        &\\text{subject to} && C_l(w_{\\mathbf{q}_2}, \\alpha) = 0.3 \\\\\n",
    "    \\end{aligned}\n",
    "\\end{equation}\n",
    "\n",
    "where we have a constraint on the lift coefficient. This problem is very similar in structure to the problem we solved using the penalty technique in the Python demo lecture number 4 (go watch it again if needed), and to what discussed in the lecture."
   ]
  },
  {
   "cell_type": "markdown",
   "metadata": {},
   "source": [
    "### Exploring the parameter space"
   ]
  },
  {
   "cell_type": "markdown",
   "metadata": {},
   "source": [
    "We will first explore how drag and lift depend on these two parameters. We will compute the force coefficients for a range of parameters $w_{\\mathbf{q}_2}$ and angles of attack. \n",
    "\n",
    "As shown in the Python demo lecture number 4, you should first define one array `ws` for the weight and one array `alphas` for the  angles of attack `alpha`. Fifteen points for `ws` between 0.2 and 1.5 and seventeen points for `alphas` between -0.5 and 1.0 should be used. You should then initialise two 2D arrays for the lift and draft coefficients, and name them `cls` and `cds`."
   ]
  },
  {
   "cell_type": "code",
   "execution_count": 20,
   "metadata": {},
   "outputs": [],
   "source": [
    "# Number of points for parameter w and for alpha\n",
    "Nw     = 15\n",
    "Nalpha = 17\n",
    "\n",
    "# BEGIN YOUR CODE HERE\n",
    "# create equally spaced point (two points)\n",
    "ws  = np.linspace(0.2, 1.5, Nw)\n",
    "alphas = np.linspace(-0.5, 1.0, Nalpha)\n",
    "\n",
    "# Initialise 2D arrays for lift and drag (two lines)\n",
    "\n",
    "cls = np.zeros(shape=(Nalpha,Nw))\n",
    "cds = np.zeros(shape=(Nalpha,Nw))\n",
    "#print(cls)\n",
    "#print(cds)\n",
    "# END YOUR CODE HERE"
   ]
  },
  {
   "cell_type": "markdown",
   "metadata": {},
   "source": [
    "#### Intermediate tests\n",
    "Run the tests below to check the code in the previous cell"
   ]
  },
  {
   "cell_type": "code",
   "execution_count": 21,
   "metadata": {},
   "outputs": [],
   "source": [
    "assert len(ws) == 15\n",
    "assert alphas[0] == -0.5\n",
    "assert alphas[-1] == 1.0\n",
    "assert ws[0] == 0.2\n",
    "assert ws[-1] == 1.5\n",
    "assert cls.shape == (17, 15)"
   ]
  },
  {
   "cell_type": "markdown",
   "metadata": {},
   "source": [
    "As shown in the python demo lecture, we then fill these two arrays by using two nested for loops, to loop over all combinations of weight and angle of attack. The cell below will take a while to complete, since we are running `Nw * Nalpha` airfoil simulations! That's why a full exploration of parameter space is often prohibitevely expensive and we use optimisation techniques instead to descend to a minimum more cheaply."
   ]
  },
  {
   "cell_type": "code",
   "execution_count": 22,
   "metadata": {},
   "outputs": [],
   "source": [
    "# this will take a while to finish! we are running airfoilsim Nw*Nalpha = 15*17 times!\n",
    "# Note how I use two for loops with different iteration variables for the two parameters\n",
    "# You can use `iw` and `ia` to index into `ws`, `alphas` and `cls`, `cds`\n",
    "for iw in range(Nw):\n",
    "    for ia in range(Nalpha):\n",
    "        ### BEGIN YOUR CODE HERE \n",
    "        # construct geometry (one line)\n",
    "        B, p, q = parametric_aerofoil(ws[iw])\n",
    "\n",
    "        \n",
    "        # simulate at given angle of attack (one line)\n",
    "        cl, cd, xl, xu, cpl, cpu = airfoilsim(B, alphas[ia], Re)\n",
    "        \n",
    "\n",
    "        \n",
    "        # store values (two lines of code)\n",
    "        cls[ia][iw] = cl\n",
    "        cds[ia][iw] = cd\n",
    "\n",
    "        ### END YOUR CODE HERE"
   ]
  },
  {
   "cell_type": "markdown",
   "metadata": {},
   "source": [
    "Let's plot the results. I have plotted the lift coefficient contour plot in subplot 121. You should complete the cell below to also plot the drag coefficient in subplot 122 (feel free to reuse the code for subplot 121)."
   ]
  },
  {
   "cell_type": "code",
   "execution_count": 48,
   "metadata": {},
   "outputs": [
    {
     "data": {
      "text/plain": [
       "Text(0.5, 1.0, 'DRAG COEFFICIENT')"
      ]
     },
     "execution_count": 48,
     "metadata": {},
     "output_type": "execute_result"
    }
   ],
   "source": [
    "# Create figure and increase spacing between subplots\n",
    "pl.figure(1, figsize=(18, 6))\n",
    "pl.subplots_adjust(wspace=0.25)\n",
    "\n",
    "\n",
    "# FIRST SUBPLOT - LIFT COEFFICIENT\n",
    "pl.subplot(121)\n",
    "# plot contours of lift coefficients versus parameter w and angle of attack alpha\n",
    "pl.contourf(ws, alphas, cls, 100, cmap=\"Reds\")\n",
    "pl.colorbar(label=\"$C_l$\")\n",
    "\n",
    "# plot the contour for c_l = 0.3, our target c_l\n",
    "c = pl.contour(ws, alphas, cls, [0.3], colors=\"k\")\n",
    "\n",
    "# add a label to the contour\n",
    "pl.clabel(c, fmt=\"$C_l = %.1f$\")\n",
    "\n",
    "# add labels and a title\n",
    "pl.xlabel(\"w\")\n",
    "pl.ylabel(\"alpha\")\n",
    "pl.title(\"Lift coefficient\")\n",
    "\n",
    "\n",
    "# SECOND SUBPLOT - DRAG COEFFICIENT\n",
    "pl.subplot(122)\n",
    "\n",
    "# BEGIN YOUR CODE HERE\n",
    "# plot contours of drag coefficients versus parameter w and angle of attack alpha\n",
    "# use `gist_earth_r` for cmap (one line)\n",
    "pl.contourf(ws, alphas, cds, 100, cmap=\"gist_ncar_r\")\n",
    "\n",
    "# add a colorbar with label (one line)\n",
    "pl.colorbar()\n",
    "\n",
    "# plot the contour for c_l = 0.3, our target c_l and the contour label (one line)\n",
    "c = pl.contour(ws, alphas, cls, [0.3], colors=\"k\")\n",
    "\n",
    "\n",
    "# add a label to the contour (one line)\n",
    "pl.clabel(c, fmt=\"$C_l = %.1f$\")\n",
    "\n",
    "# add labels and a title\n",
    "pl.xlabel(\"w\")\n",
    "pl.ylabel(\"alpha\")\n",
    "pl.title(\"DRAG COEFFICIENT\")\n",
    "# BEGIN YOUR CODE HERE"
   ]
  },
  {
   "cell_type": "markdown",
   "metadata": {},
   "source": [
    "There might be a couple of white spots in these plots. These corresponds to combinations of weight and angle of attack for which the solver failed to converge and did not produce a result. These do not matter, we can still see the overall picture.\n",
    "\n",
    "There are several interesting comments on the plots above. Looking at the lift coefficient plot on the left:\n",
    "\n",
    "- the lift coefficient increases with `alpha` as well as with `w`\n",
    "- we can vary these two parameters to keep `c_l` constant to the target 0.3, indicated by the black contour.\n",
    "\n",
    "Looking at the drag coefficient plot on the right\n",
    "\n",
    "- there is a combination of `w` and `alpha` that gives minimum drag (the white spot), but the lift coefficient in that region is lower than the target\n",
    "- along the contour line at `c_l=0.3` (our constraint) there should be a point where the drag is minimum, at `alpha` approximately 0.4\n",
    "\n",
    "Let's try to find the optimum point with the optimiser!"
   ]
  },
  {
   "cell_type": "markdown",
   "metadata": {},
   "source": [
    "### Optimisation"
   ]
  },
  {
   "cell_type": "markdown",
   "metadata": {},
   "source": [
    "As shown in lecture number 4, we try to satisfy the lift coefficient constraint using a penalty method. To do this we modify the original objective (the drag coefficient) to include a penalisation term. I have made a start in the function below, but you should complete the missing parts."
   ]
  },
  {
   "cell_type": "code",
   "execution_count": 49,
   "metadata": {},
   "outputs": [],
   "source": [
    "def drag_modified(params, cl_target=0.3):\n",
    "    \"\"\"\n",
    "    Given the input argument `params`, a two-element array or list containing \n",
    "    the weight `w` for control point q_2 and the angle of attack `alpha`, return \n",
    "    the quantity\n",
    "    \n",
    "        J = cd + 10 * (cl - cl_target)**2\n",
    "        \n",
    "    where `cl_target=0.3` by default, and `cl` and `cd` are the lift and drag \n",
    "    coefficients of an airfoil obtained with the `parametric_airfoil` function \n",
    "    defined in Lab 2.\n",
    "    \"\"\"\n",
    "    # unpack arguments\n",
    "    w, alpha = params\n",
    "    \n",
    "    # obtain geometry with `parametric_airfoil`\n",
    "    B, p, q = parametric_aerofoil(w)\n",
    "    \n",
    "    # run calculation at a given angle of attack and using the \n",
    "    # Reynolds number defined in the previous cell\n",
    "    cl, cd, xl, xu, cpl, cpu = airfoilsim(B, alpha, Re)\n",
    "    \n",
    "    # compute objective, including constraint\n",
    "    # BEGIN YOUR CODE HERE\n",
    "    J = cd + 10 * (cl - cl_target)**2\n",
    "    # END YOUR CODE HERE\n",
    "    \n",
    "    # return modified objective\n",
    "    return J"
   ]
  },
  {
   "cell_type": "markdown",
   "metadata": {},
   "source": [
    "### Testing"
   ]
  },
  {
   "cell_type": "markdown",
   "metadata": {},
   "source": [
    "If your implementation is correct, the test below should pass"
   ]
  },
  {
   "cell_type": "code",
   "execution_count": 50,
   "metadata": {},
   "outputs": [],
   "source": [
    "# run with Shift+Enter\n",
    "assert drag_modified([1, 2]) == 0.541858992574313"
   ]
  },
  {
   "cell_type": "markdown",
   "metadata": {},
   "source": [
    "### Optimisation"
   ]
  },
  {
   "cell_type": "markdown",
   "metadata": {},
   "source": [
    "This time it's your turn to call the `minimize` function on the `drag_modified` objective function. Use a reasonable initial guess for `w` and `alpha` (see the contour plots above) and __remember to specify__ `method=\"Nelder-Mead\"` and a suitable tolerance (not to tight to start with, e.g. `1e-2` should be OK). Store the optimisation result in a variable named `out`."
   ]
  },
  {
   "cell_type": "code",
   "execution_count": 51,
   "metadata": {},
   "outputs": [],
   "source": [
    "# BEGIN YOUR CODE HERE\n",
    "guess= [0.6,0.5]\n",
    "out = minimize(drag_modified, guess, tol=1e-2, method=\"Nelder-Mead\")\n",
    "\n",
    "# END YOUR CODE HERE"
   ]
  },
  {
   "cell_type": "markdown",
   "metadata": {},
   "source": [
    "Let's print the optimisation result to see if the procedure converged successfully."
   ]
  },
  {
   "cell_type": "code",
   "execution_count": 52,
   "metadata": {},
   "outputs": [
    {
     "data": {
      "text/plain": [
       " final_simplex: (array([[0.64949375, 0.34765892],\n",
       "       [0.65462837, 0.34183884],\n",
       "       [0.65420094, 0.34460564]]), array([0.00527546, 0.00527676, 0.00527895]))\n",
       "           fun: 0.005275459598905102\n",
       "       message: 'Optimization terminated successfully.'\n",
       "          nfev: 27\n",
       "           nit: 12\n",
       "        status: 0\n",
       "       success: True\n",
       "             x: array([0.64949375, 0.34765892])"
      ]
     },
     "execution_count": 52,
     "metadata": {},
     "output_type": "execute_result"
    }
   ],
   "source": [
    "out"
   ]
  },
  {
   "cell_type": "markdown",
   "metadata": {},
   "source": [
    "Hopefully, this should be successful. Let's now plot the optimum design as a star on our parameter space."
   ]
  },
  {
   "cell_type": "code",
   "execution_count": 53,
   "metadata": {},
   "outputs": [
    {
     "data": {
      "text/plain": [
       "Text(0.5, 1.0, 'Drag coefficient')"
      ]
     },
     "execution_count": 53,
     "metadata": {},
     "output_type": "execute_result"
    }
   ],
   "source": [
    "# Create figure and increase spacing between subplots\n",
    "pl.figure(1, figsize=(18, 12))\n",
    "pl.subplots_adjust(wspace=0.25)\n",
    "\n",
    "# plot contours of drag coefficients versus parameter w and angle of attack alpha\n",
    "pl.contourf(ws, alphas, cds, 50, cmap=\"gist_earth_r\")\n",
    "pl.colorbar(label=\"$C_d$\")\n",
    "\n",
    "# plot the contour for c_l = 0.3, our target c_l\n",
    "c = pl.contour(ws, alphas, cls, [0.3], colors=\"k\")\n",
    "pl.clabel(c, fmt=\"$C_l = %.1f$\")\n",
    "\n",
    "# plot the optimum design \n",
    "pl.plot(out.x[0], out.x[1], \"r*\", ms=20)\n",
    "\n",
    "# add grid, labels and a title\n",
    "pl.grid()\n",
    "pl.xlabel(\"w\")\n",
    "pl.ylabel(\"alpha\")\n",
    "pl.title(\"Drag coefficient\")"
   ]
  },
  {
   "cell_type": "markdown",
   "metadata": {},
   "source": [
    "We have found an optimum design that produces minimum drag while producing the required lift. Neat!"
   ]
  },
  {
   "cell_type": "markdown",
   "metadata": {
    "deletable": false,
    "nbgrader": {
     "checksum": "d9c4725294ecf319c4a83a4d98cece3f",
     "grade": false,
     "grade_id": "1d_opt_code",
     "locked": false,
     "schema_version": 1,
     "solution": true
    }
   },
   "source": [
    "__End of Lab__: Well done!"
   ]
  },
  {
   "cell_type": "code",
   "execution_count": 54,
   "metadata": {},
   "outputs": [
    {
     "data": {
      "text/plain": [
       "'C:\\\\Users\\\\jonat'"
      ]
     },
     "execution_count": 54,
     "metadata": {},
     "output_type": "execute_result"
    }
   ],
   "source": [
    "pwd"
   ]
  },
  {
   "cell_type": "code",
   "execution_count": null,
   "metadata": {},
   "outputs": [],
   "source": []
  }
 ],
 "metadata": {
  "kernelspec": {
   "display_name": "Python 3",
   "language": "python",
   "name": "python3"
  },
  "language_info": {
   "codemirror_mode": {
    "name": "ipython",
    "version": 3
   },
   "file_extension": ".py",
   "mimetype": "text/x-python",
   "name": "python",
   "nbconvert_exporter": "python",
   "pygments_lexer": "ipython3",
   "version": "3.8.8"
  }
 },
 "nbformat": 4,
 "nbformat_minor": 4
}
